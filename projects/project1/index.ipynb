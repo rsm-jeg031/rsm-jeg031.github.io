{
  "cells": [
    {
      "cell_type": "raw",
      "metadata": {},
      "source": [
        "---\n",
        "title: Project Example 1\n",
        "subtitle: stuff here \n",
        "author: Jesus G\n",
        "date: today\n",
        "toc: true \n",
        "\n",
        "---"
      ],
      "id": "0976dab3"
    },
    {
      "cell_type": "code",
      "metadata": {},
      "source": [
        "import matplotlib"
      ],
      "id": "87b9cfc3",
      "execution_count": null,
      "outputs": []
    },
    {
      "cell_type": "markdown",
      "metadata": {},
      "source": [
        "# Header 1 \n",
        "\n",
        "Ploting some data for funzies. \n",
        "\n",
        "\n",
        "## Header 2\n",
        "\n",
        "Some other data stuff. \n"
      ],
      "id": "4c85903b"
    }
  ],
  "metadata": {
    "kernelspec": {
      "name": "python3",
      "language": "python",
      "display_name": "Python 3 (ipykernel)"
    }
  },
  "nbformat": 4,
  "nbformat_minor": 5
}